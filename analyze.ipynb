{
 "cells": [
  {
   "cell_type": "code",
   "execution_count": 29,
   "metadata": {
    "collapsed": true
   },
   "outputs": [],
   "source": [
    "import json"
   ]
  },
  {
   "cell_type": "code",
   "execution_count": 41,
   "outputs": [],
   "source": [
    "main_path = 'outputs/gpt-3.5-turbo-16k-0613_$proofwriter-neurosymbolic-2shot_debug_ates_new_prompt_2__'\n",
    "\n",
    "linc_main_path = 'outputs/gpt-3.5-turbo-16k-0613_$proofwriter-neurosymbolic-2shot_'\n",
    "\n",
    "contexts =  json.loads(open(f'{main_path}context.json', 'r').read())\n",
    "\n",
    "generation_prc =  json.loads(open(f'{main_path}generations_prc.json', 'r').read())\n",
    "\n",
    "generation_raw =  json.loads(open(f'{main_path}generations_raw.json', 'r').read())\n",
    "\n",
    "references =  json.loads(open(f'{main_path}references.json', 'r').read())\n",
    "\n",
    "old_generation_raw = json.loads(open(f'{linc_main_path}generations_raw.json', 'r').read())\n",
    "\n",
    "old_generation_prc = json.loads(open(f'{linc_main_path}generations_prc.json', 'r').read())"
   ],
   "metadata": {
    "collapsed": false
   }
  },
  {
   "cell_type": "code",
   "execution_count": 42,
   "outputs": [
    {
     "data": {
      "text/plain": "['Uncertain',\n 'False',\n 'Uncertain',\n 'True',\n 'False',\n 'False',\n 'True',\n 'Uncertain',\n 'True',\n 'Uncertain',\n 'False',\n 'True',\n 'True',\n 'True',\n 'Uncertain',\n 'Uncertain',\n 'True',\n 'Uncertain',\n 'True',\n 'Uncertain']"
     },
     "execution_count": 42,
     "metadata": {},
     "output_type": "execute_result"
    }
   ],
   "source": [
    "references"
   ],
   "metadata": {
    "collapsed": false
   }
  },
  {
   "cell_type": "code",
   "execution_count": 43,
   "outputs": [
    {
     "data": {
      "text/plain": "<Figure size 640x480 with 2 Axes>",
      "image/png": "[encoded data removed]"
     },
     "metadata": {},
     "output_type": "display_data"
    }
   ],
   "source": [
    "from sklearn.metrics import confusion_matrix\n",
    "import matplotlib.pyplot as plt\n",
    "import seaborn as sns\n",
    "\n",
    "labels=[\"True\", \"False\", \"Uncertain\", \"Error\"]\n",
    "\n",
    "cm = confusion_matrix(\n",
    "    labels=labels,\n",
    "    y_true=references,\n",
    "    y_pred=[x[0] for x in generation_prc]\n",
    ")\n",
    "\n",
    "ax = plt.subplot()\n",
    "sns.heatmap(cm, annot=True, fmt='g', ax=ax)  #annot=True to annotate cells, ftm='g' to disable scientific notation\n",
    "\n",
    "# labels, title and ticks\n",
    "ax.set_xlabel('Predicted labels');ax.set_ylabel('True labels');\n",
    "ax.set_title('Confusion Matrix');\n",
    "ax.xaxis.set_ticklabels(labels); ax.yaxis.set_ticklabels(labels);\n",
    "# plt.savefig('results/coc-cm.png')"
   ],
   "metadata": {
    "collapsed": false
   }
  },
  {
   "cell_type": "code",
   "execution_count": 37,
   "outputs": [],
   "source": [
    "import pandas as pd\n",
    "\n",
    "df = pd.DataFrame({\n",
    "    \"contexts\": [x[0] for x in contexts],\n",
    "    \"generation_prc\": [x[0] for x in generation_prc],\n",
    "    \"generation_raw\": [x[0] for x in generation_raw],\n",
    "    \"old_generation_raw\": [x[0] for x in old_generation_raw],\n",
    "    \"old_generation_prc\": [x[0] for x in old_generation_prc],\n",
    "    \"references\": references,\n",
    "    'idx': range(len(contexts))\n",
    "})\n",
    "\n",
    "# bads_df = df[(df['generation_prc'] == 'True') & (df['references'] != 'True') & (df['references'] == df['old_generation_prc'])]\n",
    "\n",
    "bads_df = df[(df['generation_prc'] == 'Error')]"
   ],
   "metadata": {
    "collapsed": false
   }
  },
  {
   "cell_type": "code",
   "execution_count": 40,
   "outputs": [
    {
     "name": "stdout",
     "output_type": "stream",
     "text": [
      "Premise: The bald eagle needs the squirrel to survive.\n",
      "FOL: Needs(BaldEagle, Squirrel)\n",
      "\n",
      "Premise: The cow does not like the squirrel.\n",
      "FOL: -Likes(Cow, Squirrel)\n",
      "\n",
      "Premise: If someone chases the squirrel and they are big, then they do not like the squirrel.\n",
      "FOL: all x. (Chase(x, Squirrel) & Big(x) -> -Likes(x, Squirrel))\n",
      "\n",
      "Premise: If someone chases the squirrel and they are round, then they like the squirrel.\n",
      "FOL: all x. (Chase(x, Squirrel) & Round(x) -> Likes(x, Squirrel))\n",
      "\n",
      "Premise: If someone likes the squirrel, then they do not need the squirrel.\n",
      "FOL: all x. (Likes(x, Squirrel) -> -Needs(x, Squirrel))\n",
      "\n",
      "<CONTEXT>\n",
      "Premise: The bald eagle needs the squirrel.\n",
      "FOL: Needs(BaldEagle, Squirrel)\n",
      "\n",
      "Premise: The cow does not like the squirrel.\n",
      "FOL: -Likes(Cow, Squirrel)\n",
      "\n",
      "Premise: If someone chases the squirrel and they are big, then they do not like the squirrel.\n",
      "FOL: all x. (Chase(x, Squirrel) & Big(x) -> -Likes(x, Squirrel))\n",
      "\n",
      "Premise: If someone chases the squirrel and they are round, then they like the squirrel.\n",
      "FOL: all x. (Chase(x, Squirrel) & Round(x) -> Likes(x, Squirrel))\n",
      "\n",
      "Premise: If someone likes the squirrel, then they do not need the squirrel.\n",
      "FOL: all x. (Likes(x, Squirrel) -> -Needs(x, Squirrel))\n",
      "</CONTEXT>\n"
     ]
    }
   ],
   "source": [
    "# print(bad_mask.iloc[0].contexts)\n",
    "# print(bads_df.iloc[1].idx)\n",
    "print(bads_df.iloc[2].contexts)\n",
    "# bads_df.iloc[1]"
   ],
   "metadata": {
    "collapsed": false
   }
  },
  {
   "cell_type": "markdown",
   "source": [
    "extra context we have generated:\n",
    "\n",
    "Premise: The bear is an animal.\n",
    "FOL: Animal(Bear)\n",
    "Premise: The dog is an animal.\n",
    "FOL: Animal(Dog)\n",
    "Premise: The rabbit is an animal.\n",
    "FOL: Animal(Rabbit)\n",
    "Premise: The tiger is an animal.\n",
    "FOL: Animal(Tiger)\n",
    "Premise: If something needs an animal, then that animal is needed.\n",
    "FOL: all x. all y. (Needs(x, y) -> Needs(y, x))\n",
    "Premise: If something eats an animal, then that animal is eaten.\n",
    "FOL: all x. all y. (Eats(x, y) -> Eats(y, x))\n",
    "Premise: If something sees an animal, then that animal is seen.\n",
    "FOL: all x. all y. (Sees(x, y) -> Sees(y, x))\n",
    "Premise: If something is round, then it is a shape.\n",
    "FOL: all x. (Round(x) -> Shape(x))\n",
    "Premise: If something is cold, then it is not warm.\n",
    "FOL: all x. (Cold(x) -> -Warm(x))\n",
    "Premise: If something is young, then it is not old.\n",
    "FOL: all x. (Young(x) -> -Old(x))\n",
    "Premise: If something is eaten by a bear and needs a rabbit, then it is eaten by the tiger.\n",
    "FOL: all x. (Eats(Bear, x) & Needs(x, Rabbit) -> Eats(Tiger, x))\n",
    "Premise: If something sees a rabbit, then it is eaten by the bear.\n",
    "FOL: all x. (Sees(x, Rabbit) -> Eats(x, Bear))\n",
    "Premise: If something eats the bear and sees the rabbit, then it eats the dog.\n",
    "FOL: all x. (Eats(x, Bear) & Sees(x, Rabbit) -> Eats(x, Dog))\n",
    "Premise: If something eats the dog, then it eats the bear.\n",
    "FOL: all x. (Eats(x, Dog) -> Eats(x, Bear))\n",
    "Premise: If something eats the dog, then it needs the tiger.\n",
    "FOL: all x. (Eats(x, Dog) -> Needs(x, Tiger))\n",
    "Premise: If something eats the tiger, then it is cold.\n",
    "FOL: all x. (Eats(x, Tiger) -> Cold(x))\n",
    "Premise: If something eats the rabbit, then it is round.\n",
    "FOL: all x. (Eats(x, Rabbit) -> Round(x))\n",
    "Premise: If something sees the rabbit, then it is seen by the tiger.\n",
    "FOL: all x. (Sees(x, Rabbit) -> Sees(Tiger, x))\n",
    "Premise: If something sees the dog, then it is seen by the rabbit.\n",
    "FOL: all x. (Sees(x, Dog) -> Sees(Rabbit, x))\n",
    "Premise: If something sees the dog, then it eats the rabbit.\n",
    "FOL: all x. (Sees(x, Dog) -> Eats(x, Rabbit))\n",
    "Premise: If something sees the dog, then it sees the bear.\n",
    "FOL: all x. (Sees(x, Dog) -> Sees(x, Bear))\n",
    "Premise: If something sees the rabbit, then it sees the bear.\n",
    "FOL: all x. (Sees(x, Rabbit) -> Sees(x, Bear))\n",
    "Premise: If something sees the rabbit, then it eats the bear.\n",
    "FOL: all x. (Sees(x, Rabbit) -> Eats(x, Bear))"
   ],
   "metadata": {
    "collapsed": false
   }
  },
  {
   "cell_type": "code",
   "execution_count": 52,
   "outputs": [],
   "source": [],
   "metadata": {
    "collapsed": false
   }
  },
  {
   "cell_type": "code",
   "execution_count": 14,
   "outputs": [
    {
     "name": "stderr",
     "output_type": "stream",
     "text": [
      "/home/shayan/.local/lib/python3.10/site-packages/tqdm/auto.py:22: TqdmWarning: IProgress not found. Please update jupyter and ipywidgets. See https://ipywidgets.readthedocs.io/en/stable/user_install.html\n",
      "  from .autonotebook import tqdm as notebook_tqdm\n"
     ]
    }
   ],
   "source": [
    "from eval.tasks import get_task\n",
    "\n",
    "task_name = \"proofwriter-neurosymbolic-2shot\"\n",
    "task = get_task(task_name)\n"
   ],
   "metadata": {
    "collapsed": false
   }
  },
  {
   "cell_type": "code",
   "execution_count": 15,
   "outputs": [],
   "source": [
    "dataset = task.get_dataset()"
   ],
   "metadata": {
    "collapsed": false
   }
  },
  {
   "cell_type": "code",
   "execution_count": 16,
   "outputs": [
    {
     "data": {
      "text/plain": "{'id': 'RelNeg-OWA-D5-206',\n 'QDep': 1,\n 'premises': ['The bald eagle does not need the mouse.',\n  'The bear does not eat the bald eagle.',\n  'The bear eats the tiger.',\n  'The mouse chases the bald eagle.',\n  'The mouse eats the bear.',\n  'The mouse is round.',\n  'The tiger eats the bear.',\n  'If something is round then it chases the bear.',\n  'If something eats the bear and it does not need the bald eagle then it chases the bear.',\n  'If something chases the bear then it needs the tiger.',\n  'If something chases the mouse and the mouse is red then it does not eat the bald eagle.',\n  'If something is red then it does not eat the bald eagle.',\n  'If something is round and it needs the tiger then the tiger is round.',\n  'If something needs the bald eagle then it is not red.',\n  'If something needs the bald eagle and the bald eagle eats the tiger then the tiger eats the mouse.',\n  'If something is round and it does not eat the mouse then it does not need the mouse.'],\n 'conclusion': 'The mouse does not chase the bear.',\n 'label': 'False'}"
     },
     "execution_count": 16,
     "metadata": {},
     "output_type": "execute_result"
    }
   ],
   "source": [
    "dataset[5]"
   ],
   "metadata": {
    "collapsed": false
   }
  },
  {
   "cell_type": "code",
   "execution_count": 17,
   "outputs": [
    {
     "name": "stdout",
     "output_type": "stream",
     "text": [
      "Premise: The mouse is not round.\n",
      "FOL: -Round(Mouse)\n",
      "Premise: The tiger is not round.\n",
      "FOL: -Round(Tiger)\n",
      "Premise: The bear is not round.\n",
      "FOL: -Round(Bear)\n",
      "Premise: The mouse does not need the tiger.\n",
      "FOL: -Needs(Mouse, Tiger)\n",
      "Premise: The bear does not need the tiger.\n",
      "FOL: -Needs(Bear, Tiger)\n",
      "Premise: The bald eagle does not chase the mouse.\n",
      "FOL: -Chases(BaldEagle, Mouse)\n",
      "Premise: If something needs the tiger, then it does not chase the tiger.\n",
      "FOL: all x. (Needs(x, Tiger) -> -Chases(x, Tiger))\n",
      "Premise: If something chases the bald eagle, then it does not eat the mouse.\n",
      "FOL: all x. (Chases(x, BaldEagle) -> -Eats(x, Mouse))\n",
      "Premise: If something chases the tiger, then it does not eat the mouse.\n",
      "FOL: all x. (Chases(x, Tiger) -> -Eats(x, Mouse))\n",
      "Premise: If something chases the bald eagle, then it does not eat the tiger.\n",
      "FOL: all x. (Chases(x, BaldEagle) -> -Eats(x, Tiger))\n",
      "Premise: If something eats the mouse, then it does not need the mouse.\n",
      "FOL: all x. (Eats(x, Mouse) -> -Needs(x, Mouse))\n",
      "Premise: If something eats the tiger, then it does not need the tiger.\n",
      "FOL: all x. (Eats(x, Tiger) -> -Needs(x, Tiger))\n",
      "Premise: If something eats the bald eagle, then it does not need the bald eagle.\n",
      "FOL: all x. (Eats(x, BaldEagle) -> -Needs(x, BaldEagle))\n",
      "Premise: If something eats the mouse, then it does not chase the mouse.\n",
      "FOL: all x. (Eats(x, Mouse) -> -Chases(x, Mouse))\n",
      "Premise: If something eats the tiger, then it does not chase the tiger.\n",
      "FOL: all x. (Eats(x, Tiger) -> -Chases(x, Tiger))\n",
      "Premise: If something eats the bald eagle, then it does not chase the bald eagle.\n",
      "FOL: all x. (Eats(x, BaldEagle) -> -Chases(x, BaldEagle))\n",
      "Premise: If something chases the mouse, then it does not eat the mouse.\n",
      "FOL: all x. (Chases(x, Mouse) -> -Eats(x, Mouse))\n",
      "Premise: If something chases the tiger, then it does not eat the tiger.\n",
      "FOL: all x. (Chases(x, Tiger) -> -Eats(x, Tiger))\n",
      "Premise: If something chases the bald eagle, then it does not eat the bald eagle.\n",
      "FOL: all x. (Chases(x, BaldEagle) -> -Eats(x, BaldEagle))\n"
     ]
    }
   ],
   "source": [
    "print(bads_df.iloc[1].contexts)\n"
   ],
   "metadata": {
    "collapsed": false
   }
  },
  {
   "cell_type": "code",
   "execution_count": 18,
   "outputs": [
    {
     "name": "stdout",
     "output_type": "stream",
     "text": [
      "The following is a first-order logic (FOL) problem.\n",
      "The problem is to determine whether the conclusion follows from the premises.\n",
      "The premises are given in the form of a set of first-order logic sentences.\n",
      "The conclusion is given in the form of a single first-order logic sentence.\n",
      "The task is to translate each of the premises and conclusions into FOL expressions, so that the expressions can be evaluated by a theorem solver to determine whether the conclusion follows from the premises.\n",
      "Expressions should be adhere to the format of the Python NLTK package logic module.\n",
      "\n",
      "\n",
      "<PREMISES>\n",
      "All dispensable things are environment-friendly.\n",
      "All woodware is dispensable.\n",
      "All paper is woodware.\n",
      "No good things are bad.\n",
      "All environment-friendly things are good.\n",
      "A worksheet is either paper or is environment-friendly.\n",
      "</PREMISES>\n",
      "<CONCLUSION>\n",
      "A worksheet is not dispensable.\n",
      "</CONCLUSION>\n",
      "<EVALUATE>\n",
      "TEXT:\tAll dispensable things are environment-friendly.\n",
      "FOL:\tall x. (Dispensable(x) -> EnvironmentFriendly(x))\n",
      "TEXT:\tAll woodware is dispensable.\n",
      "FOL:\tall x. (Woodware(x) -> Dispensable(x))\n",
      "TEXT:\tAll paper is woodware.\n",
      "FOL:\tall x. (Paper(x) -> Woodware(x))\n",
      "TEXT:\tNo good things are bad.\n",
      "FOL:\tall x. (Good(x) -> -Bad(x))\n",
      "TEXT:\tAll environment-friendly things are good.\n",
      "FOL:\tall x. (EnvironmentFriendly(x) -> Good(x))\n",
      "TEXT:\tA worksheet is either paper or is environment-friendly.\n",
      "FOL:\t((Paper(Worksheet) & -EnvironmentFriendly(Worksheet)) | (-Paper(Worksheet) & EnvironmentFriendly(Worksheet)))\n",
      "TEXT:\tA worksheet is not dispensable.\n",
      "FOL:\t-Dispensable(Worksheet)\n",
      "</EVALUATE>\n",
      "\n",
      "<PREMISES>\n",
      "A La Liga soccer team ranks higher than another if it receives more points.\n",
      "If two La Liga soccer teams recieve the same points, the team which recieves more points from the games between the two teams ranks higher.\n",
      "Real Madrid and Barcelona are both La Liga soccer teams.\n",
      "In La Liga 2021-2022, Real Madrid recieves 86 points and Barcelon recieves 73 points.\n",
      "In La Liga 2021-2022, Real Madrid and Barcelona both recieve 3 points from the games between them.\n",
      "</PREMISES>\n",
      "<CONCLUSION>\n",
      "In La Liga 2021-2022, Real Madrid ranks higher than Barcelona.\n",
      "</CONCLUSION>\n",
      "<EVALUATE>\n",
      "TEXT:\tA La Liga soccer team ranks higher than another if it receives more points.\n",
      "FOL:\tall x. all y. (LaLiga(x) & LaLiga(y) & MorePoints(x, y) -> HigherRank(x, y))\n",
      "TEXT:\tIf two La Liga soccer teams recieve the same points, the team which recieves more points from the games between the two teams ranks higher.\n",
      "FOL:\tall x. all y. (LaLiga(x) & LaLiga(y) & -MorePoints(x, y) & -MorePoints(y, x) & MorePointsInGameBetween(x, y) -> HigherRank(x, y))\n",
      "TEXT:\tReal Madrid and Barcelona are both La Liga soccer teams.\n",
      "FOL:\tLaLiga(RealMadrid) & LaLiga(Barcelona)\n",
      "TEXT:\tIn La Liga 2021-2022, Real Madrid recieves 86 points and Barcelon recieves 73 points.\n",
      "FOL:\tMorePoints(RealMadrid, Barcelona)\n",
      "TEXT:\tIn La Liga 2021-2022, Real Madrid and Barcelona both recieve 3 points from the games between them.\n",
      "FOL:\t-MorePointsInGameBetween(RealMadrid, Barcelona) & -MorePointsInGameBetween(Barcelona, RealMadrid)\n",
      "TEXT:\tIn La Liga 2021-2022, Real Madrid ranks higher than Barcelona.\n",
      "FOL:\tHigherRank(RealMadrid, Barcelona)\n",
      "</EVALUATE>\n",
      "\n",
      "<PREMISES>\n",
      "The bald eagle does not need the mouse.\n",
      "The bear does not eat the bald eagle.\n",
      "The bear eats the tiger.\n",
      "The mouse chases the bald eagle.\n",
      "The mouse eats the bear.\n",
      "The mouse is round.\n",
      "The tiger eats the bear.\n",
      "If something is round then it chases the bear.\n",
      "If something eats the bear and it does not need the bald eagle then it chases the bear.\n",
      "If something chases the bear then it needs the tiger.\n",
      "If something chases the mouse and the mouse is red then it does not eat the bald eagle.\n",
      "If something is red then it does not eat the bald eagle.\n",
      "If something is round and it needs the tiger then the tiger is round.\n",
      "If something needs the bald eagle then it is not red.\n",
      "If something needs the bald eagle and the bald eagle eats the tiger then the tiger eats the mouse.\n",
      "If something is round and it does not eat the mouse then it does not need the mouse.\n",
      "</PREMISES>\n",
      "<CONCLUSION>\n",
      "The mouse does not chase the bear.\n",
      "</CONCLUSION>\n",
      "<EVALUATE>\n",
      "\n"
     ]
    }
   ],
   "source": [
    "print(task.get_prompt(dataset[5]))"
   ],
   "metadata": {
    "collapsed": false
   }
  }
 ],
 "metadata": {
  "kernelspec": {
   "name": "linc-kernel",
   "language": "python",
   "display_name": "linc-kernel"
  },
  "language_info": {
   "codemirror_mode": {
    "name": "ipython",
    "version": 2
   },
   "file_extension": ".py",
   "mimetype": "text/x-python",
   "name": "python",
   "nbconvert_exporter": "python",
   "pygments_lexer": "ipython2",
   "version": "2.7.6"
  }
 },
 "nbformat": 4,
 "nbformat_minor": 0
}
