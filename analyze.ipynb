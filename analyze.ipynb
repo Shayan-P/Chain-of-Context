{
 "cells": [
  {
   "cell_type": "code",
   "execution_count": 27,
   "metadata": {
    "collapsed": true
   },
   "outputs": [],
   "source": [
    "import json"
   ]
  },
  {
   "cell_type": "code",
   "execution_count": 28,
   "outputs": [],
   "source": [
    "contexts =  json.loads(open('outputs/gpt-3.5-turbo-16k-0613_$proofwriter-neurosymbolic-2shot_debug_context.json', 'r').read())\n",
    "\n",
    "generation_prc =  json.loads(open('outputs/gpt-3.5-turbo-16k-0613_$proofwriter-neurosymbolic-2shot_debug_generations_prc.json', 'r').read())\n",
    "\n",
    "generation_raw =  json.loads(open('outputs/gpt-3.5-turbo-16k-0613_$proofwriter-neurosymbolic-2shot_debug_generations_raw.json', 'r').read())\n",
    "\n",
    "references =  json.loads(open('outputs/gpt-3.5-turbo-16k-0613_$proofwriter-neurosymbolic-2shot_debug_references.json', 'r').read())\n",
    "\n",
    "old_generation_raw = json.loads(open('outputs/gpt-3.5-turbo-16k-0613_$proofwriter-neurosymbolic-2shot_old_generations_raw.json', 'r').read())\n",
    "\n",
    "old_generation_prc = json.loads(open('outputs/gpt-3.5-turbo-16k-0613_$proofwriter-neurosymbolic-2shot_old_generations_prc.json', 'r').read())"
   ],
   "metadata": {
    "collapsed": false
   }
  },
  {
   "cell_type": "code",
   "execution_count": 29,
   "outputs": [
    {
     "data": {
      "text/plain": "['Uncertain',\n 'False',\n 'Uncertain',\n 'True',\n 'False',\n 'False',\n 'True',\n 'Uncertain',\n 'True',\n 'Uncertain',\n 'False',\n 'True',\n 'True',\n 'True',\n 'Uncertain',\n 'Uncertain',\n 'True',\n 'Uncertain',\n 'True',\n 'Uncertain']"
     },
     "execution_count": 29,
     "metadata": {},
     "output_type": "execute_result"
    }
   ],
   "source": [
    "references"
   ],
   "metadata": {
    "collapsed": false
   }
  },
  {
   "cell_type": "code",
   "execution_count": 34,
   "outputs": [
    {
     "ename": "AttributeError",
     "evalue": "module 'matplotlib' has no attribute 'get_data_path'",
     "output_type": "error",
     "traceback": [
      "\u001B[0;31m---------------------------------------------------------------------------\u001B[0m",
      "\u001B[0;31mAttributeError\u001B[0m                            Traceback (most recent call last)",
      "Cell \u001B[0;32mIn[34], line 2\u001B[0m\n\u001B[1;32m      1\u001B[0m \u001B[38;5;28;01mfrom\u001B[39;00m \u001B[38;5;21;01msklearn\u001B[39;00m\u001B[38;5;21;01m.\u001B[39;00m\u001B[38;5;21;01mmetrics\u001B[39;00m \u001B[38;5;28;01mimport\u001B[39;00m confusion_matrix\n\u001B[0;32m----> 2\u001B[0m \u001B[38;5;28;01mimport\u001B[39;00m \u001B[38;5;21;01mmatplotlib\u001B[39;00m\u001B[38;5;21;01m.\u001B[39;00m\u001B[38;5;21;01mpyplot\u001B[39;00m \u001B[38;5;28;01mas\u001B[39;00m \u001B[38;5;21;01mplt\u001B[39;00m\n\u001B[1;32m      3\u001B[0m \u001B[38;5;28;01mimport\u001B[39;00m \u001B[38;5;21;01mseaborn\u001B[39;00m \u001B[38;5;28;01mas\u001B[39;00m \u001B[38;5;21;01msns\u001B[39;00m\n\u001B[1;32m      5\u001B[0m labels\u001B[38;5;241m=\u001B[39m[\u001B[38;5;124m\"\u001B[39m\u001B[38;5;124mTrue\u001B[39m\u001B[38;5;124m\"\u001B[39m, \u001B[38;5;124m\"\u001B[39m\u001B[38;5;124mFalse\u001B[39m\u001B[38;5;124m\"\u001B[39m, \u001B[38;5;124m\"\u001B[39m\u001B[38;5;124mUncertain\u001B[39m\u001B[38;5;124m\"\u001B[39m, \u001B[38;5;124m\"\u001B[39m\u001B[38;5;124mError\u001B[39m\u001B[38;5;124m\"\u001B[39m]\n",
      "File \u001B[0;32m~/.local/lib/python3.10/site-packages/matplotlib/__init__.py:887\u001B[0m\n\u001B[1;32m    880\u001B[0m     \u001B[38;5;28;01mreturn\u001B[39;00m config\n\u001B[1;32m    883\u001B[0m \u001B[38;5;66;03m# When constructing the global instances, we need to perform certain updates\u001B[39;00m\n\u001B[1;32m    884\u001B[0m \u001B[38;5;66;03m# by explicitly calling the superclass (dict.update, dict.items) to avoid\u001B[39;00m\n\u001B[1;32m    885\u001B[0m \u001B[38;5;66;03m# triggering resolution of _auto_backend_sentinel.\u001B[39;00m\n\u001B[1;32m    886\u001B[0m rcParamsDefault \u001B[38;5;241m=\u001B[39m _rc_params_in_file(\n\u001B[0;32m--> 887\u001B[0m     \u001B[43mcbook\u001B[49m\u001B[38;5;241;43m.\u001B[39;49m\u001B[43m_get_data_path\u001B[49m\u001B[43m(\u001B[49m\u001B[38;5;124;43m\"\u001B[39;49m\u001B[38;5;124;43mmatplotlibrc\u001B[39;49m\u001B[38;5;124;43m\"\u001B[39;49m\u001B[43m)\u001B[49m,\n\u001B[1;32m    888\u001B[0m     \u001B[38;5;66;03m# Strip leading comment.\u001B[39;00m\n\u001B[1;32m    889\u001B[0m     transform\u001B[38;5;241m=\u001B[39m\u001B[38;5;28;01mlambda\u001B[39;00m line: line[\u001B[38;5;241m1\u001B[39m:] \u001B[38;5;28;01mif\u001B[39;00m line\u001B[38;5;241m.\u001B[39mstartswith(\u001B[38;5;124m\"\u001B[39m\u001B[38;5;124m#\u001B[39m\u001B[38;5;124m\"\u001B[39m) \u001B[38;5;28;01melse\u001B[39;00m line,\n\u001B[1;32m    890\u001B[0m     fail_on_error\u001B[38;5;241m=\u001B[39m\u001B[38;5;28;01mTrue\u001B[39;00m)\n\u001B[1;32m    891\u001B[0m \u001B[38;5;28mdict\u001B[39m\u001B[38;5;241m.\u001B[39mupdate(rcParamsDefault, rcsetup\u001B[38;5;241m.\u001B[39m_hardcoded_defaults)\n\u001B[1;32m    892\u001B[0m \u001B[38;5;66;03m# Normally, the default matplotlibrc file contains *no* entry for backend (the\u001B[39;00m\n\u001B[1;32m    893\u001B[0m \u001B[38;5;66;03m# corresponding line starts with ##, not #; we fill on _auto_backend_sentinel\u001B[39;00m\n\u001B[1;32m    894\u001B[0m \u001B[38;5;66;03m# in that case.  However, packagers can set a different default backend\u001B[39;00m\n\u001B[1;32m    895\u001B[0m \u001B[38;5;66;03m# (resulting in a normal `#backend: foo` line) in which case we should *not*\u001B[39;00m\n\u001B[1;32m    896\u001B[0m \u001B[38;5;66;03m# fill in _auto_backend_sentinel.\u001B[39;00m\n",
      "File \u001B[0;32m~/.local/lib/python3.10/site-packages/matplotlib/cbook/__init__.py:559\u001B[0m, in \u001B[0;36m_get_data_path\u001B[0;34m(*args)\u001B[0m\n\u001B[1;32m    553\u001B[0m \u001B[38;5;28;01mdef\u001B[39;00m \u001B[38;5;21m_get_data_path\u001B[39m(\u001B[38;5;241m*\u001B[39margs):\n\u001B[1;32m    554\u001B[0m \u001B[38;5;250m    \u001B[39m\u001B[38;5;124;03m\"\"\"\u001B[39;00m\n\u001B[1;32m    555\u001B[0m \u001B[38;5;124;03m    Return the `pathlib.Path` to a resource file provided by Matplotlib.\u001B[39;00m\n\u001B[1;32m    556\u001B[0m \n\u001B[1;32m    557\u001B[0m \u001B[38;5;124;03m    ``*args`` specify a path relative to the base data path.\u001B[39;00m\n\u001B[1;32m    558\u001B[0m \u001B[38;5;124;03m    \"\"\"\u001B[39;00m\n\u001B[0;32m--> 559\u001B[0m     \u001B[38;5;28;01mreturn\u001B[39;00m Path(\u001B[43mmatplotlib\u001B[49m\u001B[38;5;241;43m.\u001B[39;49m\u001B[43mget_data_path\u001B[49m(), \u001B[38;5;241m*\u001B[39margs)\n",
      "\u001B[0;31mAttributeError\u001B[0m: module 'matplotlib' has no attribute 'get_data_path'"
     ]
    }
   ],
   "source": [
    "from sklearn.metrics import confusion_matrix\n",
    "import matplotlib.pyplot as plt\n",
    "import seaborn as sns\n",
    "\n",
    "labels=[\"True\", \"False\", \"Uncertain\", \"Error\"]\n",
    "\n",
    "cm = confusion_matrix(\n",
    "    labels=labels,\n",
    "    y_true=references,\n",
    "    y_pred=[x[0] for x in generation_prc]\n",
    ")\n",
    "\n",
    "ax = plt.subplot()\n",
    "sns.heatmap(cm, annot=True, fmt='g', ax=ax)  #annot=True to annotate cells, ftm='g' to disable scientific notation\n",
    "\n",
    "# labels, title and ticks\n",
    "ax.set_xlabel('Predicted labels');ax.set_ylabel('True labels');\n",
    "ax.set_title('Confusion Matrix');\n",
    "ax.xaxis.set_ticklabels(labels); ax.yaxis.set_ticklabels(labels);"
   ],
   "metadata": {
    "collapsed": false
   }
  },
  {
   "cell_type": "code",
   "execution_count": 36,
   "outputs": [],
   "source": [
    "import pandas as pd\n",
    "\n",
    "df = pd.DataFrame({\n",
    "    \"contexts\": [x[0] for x in contexts],\n",
    "    \"generation_prc\": [x[0] for x in generation_prc],\n",
    "    \"generation_raw\": [x[0] for x in generation_raw],\n",
    "    \"old_generation_raw\": [x[0] for x in old_generation_raw],\n",
    "    \"old_generation_prc\": [x[0] for x in old_generation_prc],\n",
    "    \"references\": references,\n",
    "    'idx': range(len(contexts))\n",
    "})\n",
    "\n",
    "bads_df = df[(df['generation_prc'] == 'True') & (df['references'] != 'True') & (df['references'] == df['old_generation_prc'])]"
   ],
   "metadata": {
    "collapsed": false
   }
  },
  {
   "cell_type": "code",
   "execution_count": 43,
   "outputs": [
    {
     "name": "stdout",
     "output_type": "stream",
     "text": [
      "1\n",
      "Premise: Fiona is a person.\n",
      "FOL: Person(Fiona)\n",
      "\n",
      "Premise: Gary is a person.\n",
      "FOL: Person(Gary)\n",
      "\n",
      "Premise: Erin is a person.\n",
      "FOL: Person(Erin)\n",
      "\n",
      "Premise: Fiona is not round.\n",
      "FOL: -Round(Fiona)\n",
      "\n",
      "Premise: Gary is not round.\n",
      "FOL: -Round(Gary)\n",
      "\n",
      "Premise: Erin is not round.\n",
      "FOL: -Round(Erin)\n",
      "\n",
      "Premise: Fiona is not green.\n",
      "FOL: -Green(Fiona)\n",
      "\n",
      "Premise: Gary is not green.\n",
      "FOL: -Green(Gary)\n",
      "\n",
      "Premise: Erin is not green.\n",
      "FOL: -Green(Erin)\n",
      "\n",
      "Premise: Fiona is not smart.\n",
      "FOL: -Smart(Fiona)\n",
      "\n",
      "Premise: Gary is not smart.\n",
      "FOL: -Smart(Gary)\n",
      "\n",
      "Premise: Erin is not smart.\n",
      "FOL: -Smart(Erin)\n",
      "\n",
      "Premise: Fiona is not quiet.\n",
      "FOL: -Quiet(Fiona)\n",
      "\n",
      "Premise: Gary is not quiet.\n",
      "FOL: -Quiet(Gary)\n",
      "\n",
      "Premise: Erin is not quiet.\n",
      "FOL: -Quiet(Erin)\n",
      "\n",
      "Premise: Fiona is not nice.\n",
      "FOL: -Nice(Fiona)\n",
      "\n",
      "Premise: Gary is not nice.\n",
      "FOL: -Nice(Gary)\n",
      "\n",
      "Premise: Erin is not nice.\n",
      "FOL: -Nice(Erin)\n",
      "\n",
      "Premise: Fiona is not white.\n",
      "FOL: -White(Fiona)\n",
      "\n",
      "Premise: Gary is not white.\n",
      "FOL: -White(Gary)\n",
      "\n",
      "Premise: Erin is not white.\n",
      "FOL: -White(Erin)\n"
     ]
    },
    {
     "data": {
      "text/plain": "contexts              Premise: Fiona is a person.\\nFOL: Person(Fiona...\ngeneration_prc                                                     True\ngeneration_raw        TEXT: Erin is nice.\\nFOL: Nice(Erin)\\n\\nTEXT: ...\nold_generation_raw    TEXT: Erin is nice.\\nFOL: Nice(Erin)\\n\\nTEXT: ...\nold_generation_prc                                                False\nreferences                                                        False\nidx                                                                   1\nName: 1, dtype: object"
     },
     "execution_count": 43,
     "metadata": {},
     "output_type": "execute_result"
    }
   ],
   "source": [
    "# print(bad_mask.iloc[0].contexts)\n",
    "print(bads_df.iloc[0].idx)\n",
    "print(bads_df.iloc[0].contexts)\n",
    "bads_df.iloc[0]"
   ],
   "metadata": {
    "collapsed": false
   }
  },
  {
   "cell_type": "markdown",
   "source": [
    "extra context we have generated:\n",
    "\n",
    "Premise: The bear is an animal.\n",
    "FOL: Animal(Bear)\n",
    "Premise: The dog is an animal.\n",
    "FOL: Animal(Dog)\n",
    "Premise: The rabbit is an animal.\n",
    "FOL: Animal(Rabbit)\n",
    "Premise: The tiger is an animal.\n",
    "FOL: Animal(Tiger)\n",
    "Premise: If something needs an animal, then that animal is needed.\n",
    "FOL: all x. all y. (Needs(x, y) -> Needs(y, x))\n",
    "Premise: If something eats an animal, then that animal is eaten.\n",
    "FOL: all x. all y. (Eats(x, y) -> Eats(y, x))\n",
    "Premise: If something sees an animal, then that animal is seen.\n",
    "FOL: all x. all y. (Sees(x, y) -> Sees(y, x))\n",
    "Premise: If something is round, then it is a shape.\n",
    "FOL: all x. (Round(x) -> Shape(x))\n",
    "Premise: If something is cold, then it is not warm.\n",
    "FOL: all x. (Cold(x) -> -Warm(x))\n",
    "Premise: If something is young, then it is not old.\n",
    "FOL: all x. (Young(x) -> -Old(x))\n",
    "Premise: If something is eaten by a bear and needs a rabbit, then it is eaten by the tiger.\n",
    "FOL: all x. (Eats(Bear, x) & Needs(x, Rabbit) -> Eats(Tiger, x))\n",
    "Premise: If something sees a rabbit, then it is eaten by the bear.\n",
    "FOL: all x. (Sees(x, Rabbit) -> Eats(x, Bear))\n",
    "Premise: If something eats the bear and sees the rabbit, then it eats the dog.\n",
    "FOL: all x. (Eats(x, Bear) & Sees(x, Rabbit) -> Eats(x, Dog))\n",
    "Premise: If something eats the dog, then it eats the bear.\n",
    "FOL: all x. (Eats(x, Dog) -> Eats(x, Bear))\n",
    "Premise: If something eats the dog, then it needs the tiger.\n",
    "FOL: all x. (Eats(x, Dog) -> Needs(x, Tiger))\n",
    "Premise: If something eats the tiger, then it is cold.\n",
    "FOL: all x. (Eats(x, Tiger) -> Cold(x))\n",
    "Premise: If something eats the rabbit, then it is round.\n",
    "FOL: all x. (Eats(x, Rabbit) -> Round(x))\n",
    "Premise: If something sees the rabbit, then it is seen by the tiger.\n",
    "FOL: all x. (Sees(x, Rabbit) -> Sees(Tiger, x))\n",
    "Premise: If something sees the dog, then it is seen by the rabbit.\n",
    "FOL: all x. (Sees(x, Dog) -> Sees(Rabbit, x))\n",
    "Premise: If something sees the dog, then it eats the rabbit.\n",
    "FOL: all x. (Sees(x, Dog) -> Eats(x, Rabbit))\n",
    "Premise: If something sees the dog, then it sees the bear.\n",
    "FOL: all x. (Sees(x, Dog) -> Sees(x, Bear))\n",
    "Premise: If something sees the rabbit, then it sees the bear.\n",
    "FOL: all x. (Sees(x, Rabbit) -> Sees(x, Bear))\n",
    "Premise: If something sees the rabbit, then it eats the bear.\n",
    "FOL: all x. (Sees(x, Rabbit) -> Eats(x, Bear))\n",
    "\n",
    "\n",
    "\n",
    "\n",
    "The problem"
   ],
   "metadata": {
    "collapsed": false
   }
  },
  {
   "cell_type": "code",
   "execution_count": 38,
   "outputs": [],
   "source": [],
   "metadata": {
    "collapsed": false
   }
  },
  {
   "cell_type": "code",
   "execution_count": 39,
   "outputs": [],
   "source": [
    "from eval.tasks import get_task\n",
    "\n",
    "task_name = \"proofwriter-neurosymbolic-2shot\"\n",
    "my_parent_task = get_task(task_name)\n"
   ],
   "metadata": {
    "collapsed": false
   }
  },
  {
   "cell_type": "code",
   "execution_count": 40,
   "outputs": [],
   "source": [
    "dataset = my_parent_task.get_dataset()"
   ],
   "metadata": {
    "collapsed": false
   }
  },
  {
   "cell_type": "code",
   "execution_count": 41,
   "outputs": [
    {
     "data": {
      "text/plain": "{'id': 'AttNeg-OWA-D5-899',\n 'QDep': 3,\n 'premises': ['Erin is nice.',\n  'Erin is white.',\n  'Fiona is quiet.',\n  'Gary is white.',\n  'Harry is cold.',\n  'Harry is green.',\n  'Harry is nice.',\n  'Harry is quiet.',\n  'Harry is round.',\n  'Harry is white.',\n  'All quiet people are round.',\n  'If someone is quiet then they are round.',\n  'If Erin is round then Erin is green.',\n  'Nice people are cold.',\n  'If someone is quiet and nice then they are cold.',\n  'If someone is round then they are nice.',\n  'If someone is cold then they are quiet.',\n  'If Gary is quiet then Gary is not white.',\n  'If someone is nice and green then they are smart.'],\n 'conclusion': 'Fiona is not cold.',\n 'label': 'False'}"
     },
     "execution_count": 41,
     "metadata": {},
     "output_type": "execute_result"
    }
   ],
   "source": [
    "dataset[1]"
   ],
   "metadata": {
    "collapsed": false
   }
  },
  {
   "cell_type": "code",
   "execution_count": 44,
   "outputs": [
    {
     "name": "stdout",
     "output_type": "stream",
     "text": [
      "Premise: Fiona is a person.\n",
      "FOL: Person(Fiona)\n",
      "\n",
      "Premise: Gary is a person.\n",
      "FOL: Person(Gary)\n",
      "\n",
      "Premise: Erin is a person.\n",
      "FOL: Person(Erin)\n",
      "\n",
      "Premise: Fiona is not round.\n",
      "FOL: -Round(Fiona)\n",
      "\n",
      "Premise: Gary is not round.\n",
      "FOL: -Round(Gary)\n",
      "\n",
      "Premise: Erin is not round.\n",
      "FOL: -Round(Erin)\n",
      "\n",
      "Premise: Fiona is not green.\n",
      "FOL: -Green(Fiona)\n",
      "\n",
      "Premise: Gary is not green.\n",
      "FOL: -Green(Gary)\n",
      "\n",
      "Premise: Erin is not green.\n",
      "FOL: -Green(Erin)\n",
      "\n",
      "Premise: Fiona is not smart.\n",
      "FOL: -Smart(Fiona)\n",
      "\n",
      "Premise: Gary is not smart.\n",
      "FOL: -Smart(Gary)\n",
      "\n",
      "Premise: Erin is not smart.\n",
      "FOL: -Smart(Erin)\n",
      "\n",
      "Premise: Fiona is not quiet.\n",
      "FOL: -Quiet(Fiona)\n",
      "\n",
      "Premise: Gary is not quiet.\n",
      "FOL: -Quiet(Gary)\n",
      "\n",
      "Premise: Erin is not quiet.\n",
      "FOL: -Quiet(Erin)\n",
      "\n",
      "Premise: Fiona is not nice.\n",
      "FOL: -Nice(Fiona)\n",
      "\n",
      "Premise: Gary is not nice.\n",
      "FOL: -Nice(Gary)\n",
      "\n",
      "Premise: Erin is not nice.\n",
      "FOL: -Nice(Erin)\n",
      "\n",
      "Premise: Fiona is not white.\n",
      "FOL: -White(Fiona)\n",
      "\n",
      "Premise: Gary is not white.\n",
      "FOL: -White(Gary)\n",
      "\n",
      "Premise: Erin is not white.\n",
      "FOL: -White(Erin)\n"
     ]
    }
   ],
   "source": [
    "print(bads_df.iloc[0].contexts)\n"
   ],
   "metadata": {
    "collapsed": false
   }
  }
 ],
 "metadata": {
  "kernelspec": {
   "name": "linc-kernel",
   "language": "python",
   "display_name": "linc-kernel"
  },
  "language_info": {
   "codemirror_mode": {
    "name": "ipython",
    "version": 2
   },
   "file_extension": ".py",
   "mimetype": "text/x-python",
   "name": "python",
   "nbconvert_exporter": "python",
   "pygments_lexer": "ipython2",
   "version": "2.7.6"
  }
 },
 "nbformat": 4,
 "nbformat_minor": 0
}
